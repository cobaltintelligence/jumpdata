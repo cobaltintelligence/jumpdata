{
 "cells": [
  {
   "cell_type": "markdown",
   "metadata": {},
   "source": [
    "# AMAR, HMM mode construction\n",
    "In our first pass on jump data on the Galaxy Exercise Device, we develop relatively rudimentary analyses on the time series."
   ]
  },
  {
   "cell_type": "markdown",
   "metadata": {},
   "source": [
    "## Preliminaries"
   ]
  },
  {
   "cell_type": "code",
   "execution_count": null,
   "metadata": {},
   "outputs": [],
   "source": [
    "print(\"heloo\")"
   ]
  },
  {
   "cell_type": "code",
   "execution_count": null,
   "metadata": {},
   "outputs": [],
   "source": [
    "from pandas import Series, DataFrame\n",
    "import pandas\n",
    "import matplotlib\n",
    "from sklearn.preprocessing import MinMaxScaler\n",
    "matplotlib.use('TkAgg')\n",
    "import matplotlib.pyplot as plt"
   ]
  },
  {
   "cell_type": "code",
   "execution_count": null,
   "metadata": {},
   "outputs": [],
   "source": [
    "__DEBUG2__ = False\n",
    "\n",
    "series = pandas.read_csv('data/jump180905.csv', header=0, index_col=0)\n",
    "print(type(series))"
   ]
  },
  {
   "cell_type": "markdown",
   "metadata": {},
   "source": [
    "### Moving Windows\n",
    "We apply moving averages and variance using various moving windows."
   ]
  },
  {
   "cell_type": "code",
   "execution_count": null,
   "metadata": {},
   "outputs": [],
   "source": []
  },
  {
   "cell_type": "markdown",
   "metadata": {},
   "source": [
    "### Scaling\n",
    "For visualization purposes, we apply a basic min-max scaler."
   ]
  },
  {
   "cell_type": "code",
   "execution_count": null,
   "metadata": {},
   "outputs": [],
   "source": [
    "# for row in series:\n",
    "# \tprint(row.iloc(2))\n",
    "# \tbreak\n",
    "\n",
    "values = series.values\n",
    "print(\"Values[0]:\", values[0])\n",
    "print(\"Values shape:\", values.shape)\n",
    "# print(values[:,0])\n",
    "\n",
    "for i in range(2):\n",
    "\tcontinue\n",
    "\tdata = values[:,i]\n",
    "\tscaler = MinMaxScaler(feature_range=(0, 1))\n",
    "\t\n",
    "\tscaler = scaler.fit(data.reshape(-1, 1))\n",
    "\tprint('Min: %f, Max: %f' % (scaler.data_min_[0], scaler.data_max_[0]))\n",
    "\tnormalized = scaler.transform(values)\n",
    "\tfor i in range(5):\n",
    "\t\tprint(normalized[i])\n",
    "\n",
    "data = values\n",
    "scaler = MinMaxScaler(feature_range=(-1, 1))\n",
    "\n",
    "scaler = scaler.fit(data)\n",
    "print('Min: %f, Max: %f' % (scaler.data_min_[0], scaler.data_max_[0]))\n",
    "print('Min: %f, Max: %f' % (scaler.data_min_[1], scaler.data_max_[1]))\n",
    "\n",
    "\n",
    "normalized = scaler.transform(values)\n",
    "if __DEBUG2__:\n",
    "\tfor i in range(5):\n",
    "\t\tprint(normalized[i])\n",
    "\n",
    "print(series.shape)\n",
    "print(normalized.shape)\n",
    "\n",
    "# series.values = normalized\n",
    "\n",
    "df = DataFrame(\n",
    "\tdata = normalized, \n",
    "\tindex = series.index, \n",
    "\tcolumns = [\"load\", \"center_of_pressure\"])\n",
    "\n",
    "df['var'] = df['load'].rolling(window=100).var()\n",
    "df['avload'] = df['load'].rolling(window=1500, win_type=\"triang\").mean()\n",
    "\n",
    "\n",
    "# for i in range(5):\n",
    "# \tprint(inversed[i])\n",
    "\n",
    "df.plot()\n",
    "plt.show()"
   ]
  },
  {
   "cell_type": "markdown",
   "metadata": {},
   "source": [
    "## AMAR\n",
    "We fit an AMAR model to our data. The model has the form \n",
    "$$x_n=\\sum^m_{k=1}A_kx_{n-k}$$. \n",
    "The vector $x_n$ represents the state at time $t$, the weights $A_k$ are matrices. The optimization objective is to find $A_k$ that minimize the difference between model predicted $x_n$ and the training data value. Doing so is a simple linear quadratic regression problem. We proceed thus:"
   ]
  },
  {
   "cell_type": "code",
   "execution_count": null,
   "metadata": {},
   "outputs": [],
   "source": []
  },
  {
   "cell_type": "code",
   "execution_count": null,
   "metadata": {},
   "outputs": [],
   "source": []
  }
 ],
 "metadata": {
  "kernelspec": {
   "display_name": "Python 3",
   "language": "python",
   "name": "python3"
  }
 },
 "nbformat": 4,
 "nbformat_minor": 2
}
